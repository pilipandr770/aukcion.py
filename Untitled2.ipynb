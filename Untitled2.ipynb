{
  "nbformat": 4,
  "nbformat_minor": 0,
  "metadata": {
    "colab": {
      "provenance": [],
      "authorship_tag": "ABX9TyMu5mojjS+7fJTnSKgzrugq",
      "include_colab_link": true
    },
    "kernelspec": {
      "name": "python3",
      "display_name": "Python 3"
    },
    "language_info": {
      "name": "python"
    }
  },
  "cells": [
    {
      "cell_type": "markdown",
      "metadata": {
        "id": "view-in-github",
        "colab_type": "text"
      },
      "source": [
        "<a href=\"https://colab.research.google.com/github/pilipandr770/aukcion.py/blob/main/Untitled2.ipynb\" target=\"_parent\"><img src=\"https://colab.research.google.com/assets/colab-badge.svg\" alt=\"Open In Colab\"/></a>"
      ]
    },
    {
      "cell_type": "code",
      "source": [
        "# Завдання 1: Створіть одновимірний масив (вектор) з першими 10-ма натуральними числами та виведіть його значення.\n",
        "vector_1d = np.arange(1, 11)\n",
        "print(vector_1d)"
      ],
      "metadata": {
        "colab": {
          "base_uri": "https://localhost:8080/"
        },
        "id": "ehbZad4gsBHF",
        "outputId": "c781a98a-2b43-4c95-8401-364464049a8c"
      },
      "execution_count": 10,
      "outputs": [
        {
          "output_type": "stream",
          "name": "stdout",
          "text": [
            "[ 1  2  3  4  5  6  7  8  9 10]\n"
          ]
        }
      ]
    },
    {
      "cell_type": "code",
      "source": [
        "# Завдання 2: Створіть двовимірний масив (матрицю) розміром 3x3, заповніть його нулями та виведіть його значення.\n",
        "matrix_3x3 = np.zeros((3, 3))\n",
        "print(matrix_3x3)"
      ],
      "metadata": {
        "colab": {
          "base_uri": "https://localhost:8080/"
        },
        "id": "H0j19cUCsL2H",
        "outputId": "22f98f3a-1647-4862-e8d1-e9f0e69ce10b"
      },
      "execution_count": 11,
      "outputs": [
        {
          "output_type": "stream",
          "name": "stdout",
          "text": [
            "[[0. 0. 0.]\n",
            " [0. 0. 0.]\n",
            " [0. 0. 0.]]\n"
          ]
        }
      ]
    },
    {
      "cell_type": "code",
      "source": [
        "# Завдання 3: Створіть масив розміром 5x5, заповніть його випадковими цілими числами в діапазоні від 1 до 10 та виведіть його значення.\n",
        "matrix_5x5_int = np.random.randint(1, 11, size=(5, 5))\n",
        "print(matrix_5x5_int)"
      ],
      "metadata": {
        "colab": {
          "base_uri": "https://localhost:8080/"
        },
        "id": "zj7qndhZsq0X",
        "outputId": "070cd079-2897-4131-ae1b-ce60c18f45b2"
      },
      "execution_count": 12,
      "outputs": [
        {
          "output_type": "stream",
          "name": "stdout",
          "text": [
            "[[ 2  1  9  5  1]\n",
            " [10  7  3  5  2]\n",
            " [ 6  4  5  5  4]\n",
            " [ 8  2  2  8  8]\n",
            " [ 1  3 10 10  4]]\n"
          ]
        }
      ]
    },
    {
      "cell_type": "code",
      "source": [
        "# Завдання 4: Створіть масив розміром 4x4, заповніть його випадковими дійсними числами в діапазоні від 0 до 1 та виведіть його значення.\n",
        "matrix_4x4_float = np.random.rand(4, 4)\n",
        "print(matrix_4x4_float)"
      ],
      "metadata": {
        "colab": {
          "base_uri": "https://localhost:8080/"
        },
        "id": "mah40CrMs87U",
        "outputId": "b8dadd09-af17-441f-a386-d0178eba9564"
      },
      "execution_count": 13,
      "outputs": [
        {
          "output_type": "stream",
          "name": "stdout",
          "text": [
            "[[0.01525497 0.59884338 0.60380454 0.10514769]\n",
            " [0.38194344 0.03647606 0.89041156 0.98092086]\n",
            " [0.05994199 0.89054594 0.5769015  0.74247969]\n",
            " [0.63018394 0.58184219 0.02043913 0.21002658]]\n"
          ]
        }
      ]
    },
    {
      "cell_type": "code",
      "source": [
        "# Завдання 5: Створіть два одновимірних масиви розміром 5, заповніть їх випадковими цілими числами в діапазоні від 1 до 10 та виконайте на них поелементні операції додавання, віднімання та множення.\n",
        "vector1 = np.random.randint(1, 11, size=5)\n",
        "vector2 = np.random.randint(1, 11, size=5)\n",
        "addition = vector1 + vector2\n",
        "subtraction = vector1 - vector2\n",
        "multiplication = vector1 * vector2\n",
        "print(vector1, vector2, addition, subtraction, multiplication)"
      ],
      "metadata": {
        "colab": {
          "base_uri": "https://localhost:8080/"
        },
        "id": "hnqf2t66tBzB",
        "outputId": "ffd4184e-aa0d-4b57-b9ff-a50e3621c55c"
      },
      "execution_count": 14,
      "outputs": [
        {
          "output_type": "stream",
          "name": "stdout",
          "text": [
            "[ 4  6  1 10  4] [7 4 5 8 7] [11 10  6 18 11] [-3  2 -4  2 -3] [28 24  5 80 28]\n"
          ]
        }
      ]
    },
    {
      "cell_type": "code",
      "source": [
        "# Завдання 6: Створіть два вектори розміром 7, заповніть довільними числами та знайдіть їх скалярний добуток.\n",
        "vector_a = np.random.randint(1, 11, size=7)\n",
        "vector_b = np.random.randint(1, 11, size=7)\n",
        "dot_product = np.dot(vector_a, vector_b)\n",
        "print(dot_product)"
      ],
      "metadata": {
        "colab": {
          "base_uri": "https://localhost:8080/"
        },
        "id": "q1Gg8KoNtO1d",
        "outputId": "85e567bb-9a27-4499-9675-1c2b1e97e980"
      },
      "execution_count": 15,
      "outputs": [
        {
          "output_type": "stream",
          "name": "stdout",
          "text": [
            "205\n"
          ]
        }
      ]
    },
    {
      "cell_type": "code",
      "source": [
        "# Завдання 7: Створіть дві матриці розміром 2x2 та 2x3, заповніть їх випадковими цілими числами в діапазоні від 1 до 10 та перемножте їх між собою.\n",
        "matrix_a = np.random.randint(1, 11, size=(2, 2))\n",
        "matrix_b = np.random.randint(1, 11, size=(2, 3))\n",
        "matrix_product = np.dot(matrix_a, matrix_b)\n",
        "print(matrix_product)"
      ],
      "metadata": {
        "colab": {
          "base_uri": "https://localhost:8080/"
        },
        "id": "6XeeJsHstWzn",
        "outputId": "d65e8c7d-cfc5-420e-9953-5c17e63089b8"
      },
      "execution_count": 16,
      "outputs": [
        {
          "output_type": "stream",
          "name": "stdout",
          "text": [
            "[[56 49 77]\n",
            " [43 28 46]]\n"
          ]
        }
      ]
    },
    {
      "cell_type": "code",
      "source": [
        "# Завдання 8: Створіть матрицю розміром 3x3, заповніть її випадковими цілими числами в діапазоні від 1 до 10 та знайдіть її обернену матрицю.\n",
        "matrix_c = np.random.randint(1, 11, size=(3, 3))\n",
        "matrix_inverse = np.linalg.inv(matrix_c)\n",
        "print(matrix_inverse)"
      ],
      "metadata": {
        "colab": {
          "base_uri": "https://localhost:8080/"
        },
        "id": "Jmmdd-5Ktf-j",
        "outputId": "ef747669-dd27-4f2a-aa2f-a2de19ae761e"
      },
      "execution_count": 18,
      "outputs": [
        {
          "output_type": "stream",
          "name": "stdout",
          "text": [
            "[[-0.13821138 -0.04065041  0.1300813 ]\n",
            " [ 0.17886179 -0.06504065  0.00813008]\n",
            " [-0.03794038  0.16531165 -0.06233062]]\n"
          ]
        }
      ]
    },
    {
      "cell_type": "code",
      "source": [
        "# Завдання 9: Створіть матрицю розміром 4x4, заповніть її випадковими дійсними числами в діапазоні від 0 до 1 та транспонуйте її.\n",
        "matrix_d = np.random.rand(4, 4)\n",
        "matrix_d_transpose = np.transpose(matrix_d)\n",
        "print(matrix_d_transpose)"
      ],
      "metadata": {
        "colab": {
          "base_uri": "https://localhost:8080/"
        },
        "id": "lQ1vBbQYtnQP",
        "outputId": "f2b996f2-9b6f-413f-8a3c-3345bd9a2c6a"
      },
      "execution_count": 17,
      "outputs": [
        {
          "output_type": "stream",
          "name": "stdout",
          "text": [
            "[[0.24653588 0.59797368 0.46349802 0.99215804]\n",
            " [0.173608   0.73130075 0.50869889 0.39503593]\n",
            " [0.96660969 0.34038522 0.08846017 0.33559644]\n",
            " [0.9570126  0.0920556  0.52803522 0.80545054]]\n"
          ]
        }
      ]
    },
    {
      "cell_type": "code",
      "source": [
        "# Завдання 10: Створіть матрицю розміром 3x4 та вектор розміром 4, заповніть їх випадковими цілими числами в діапазоні від 1 до 10 та перемножте матрицю на вектор.\n",
        "matrix_e = np.random.randint(1, 11, size=(3, 4))\n",
        "vector_c = np.random.randint(1, 11, size=4)\n",
        "matrix_vector_product = np.dot(matrix_e, vector_c)\n",
        "print(matrix_vector_product)"
      ],
      "metadata": {
        "colab": {
          "base_uri": "https://localhost:8080/"
        },
        "id": "ijzZNPGTtv5K",
        "outputId": "2e7d6d0c-0e73-4877-a476-2bd444849eca"
      },
      "execution_count": 19,
      "outputs": [
        {
          "output_type": "stream",
          "name": "stdout",
          "text": [
            "[133 141  75]\n"
          ]
        }
      ]
    },
    {
      "cell_type": "code",
      "source": [
        "# Завдання 11: Створіть матрицю розміром 2x3 та вектор розміром 3, заповніть їх випадковими дійсними числами в діапазоні від 0 до 1 та перемножте матрицю на вектор.\n",
        "matrix_f = np.random.rand(2, 3)\n",
        "vector_d = np.random.rand(3)\n",
        "matrix_vector_product2 = np.dot(matrix_f, vector_d)\n",
        "print(matrix_vector_product2)"
      ],
      "metadata": {
        "colab": {
          "base_uri": "https://localhost:8080/"
        },
        "id": "KJ7CdHHGt4V3",
        "outputId": "a1eee90c-46c0-4aa9-f4af-1c38ed392dc1"
      },
      "execution_count": 20,
      "outputs": [
        {
          "output_type": "stream",
          "name": "stdout",
          "text": [
            "[0.27885139 0.89071425]\n"
          ]
        }
      ]
    },
    {
      "cell_type": "code",
      "source": [
        "# Завдання 12: Створіть дві матриці розміром 2x2, заповніть їх випадковими цілими числами в діапазоні від 1 до 10 та виконайте їхнє поелементне множення.\n",
        "matrix_g = np.random.randint(1, 11, size=(2, 2))\n",
        "matrix_h = np.random.randint(1, 11, size=(2, 2))\n",
        "elementwise_product = matrix_g * matrix_h\n",
        "print(elementwise_product)"
      ],
      "metadata": {
        "colab": {
          "base_uri": "https://localhost:8080/"
        },
        "id": "UiHzROvAt_pf",
        "outputId": "40beb007-7dd3-4080-f4d9-e13ebb77d9e9"
      },
      "execution_count": 21,
      "outputs": [
        {
          "output_type": "stream",
          "name": "stdout",
          "text": [
            "[[32 12]\n",
            " [ 3 42]]\n"
          ]
        }
      ]
    },
    {
      "cell_type": "code",
      "source": [
        "# Завдання 13: Створіть дві матриці розміром 2x2, заповніть їх випадковими цілими числами в діапазоні від 1 до 10 та знайдіть їх добуток.\n",
        "matrix_i = np.random.randint(1, 11, size=(2, 2))\n",
        "matrix_j = np.random.randint(1, 11, size=(2, 2))\n",
        "matrix_product2 = np.dot(matrix_i, matrix_j)\n",
        "print(matrix_product2)"
      ],
      "metadata": {
        "colab": {
          "base_uri": "https://localhost:8080/"
        },
        "id": "Xu5j3kfsuLll",
        "outputId": "a5631306-ff38-4146-c0fe-e4f99f1d604a"
      },
      "execution_count": 22,
      "outputs": [
        {
          "output_type": "stream",
          "name": "stdout",
          "text": [
            "[[20 22]\n",
            " [88 86]]\n"
          ]
        }
      ]
    },
    {
      "cell_type": "code",
      "source": [
        "# Завдання 14: Створіть матрицю розміром 5x5, заповніть її випадковими цілими числами в діапазоні від 1 до 100 та знайдіть суму елементів матриці.\n",
        "matrix_k = np.random.randint(1, 101, size=(5, 5))\n",
        "sum_elements = np.sum(matrix_k)\n",
        "print(sum_elements)"
      ],
      "metadata": {
        "colab": {
          "base_uri": "https://localhost:8080/"
        },
        "id": "xYOYjQQ_uW53",
        "outputId": "0d1aa96d-69ee-4789-803e-4edc0ff3ec77"
      },
      "execution_count": 28,
      "outputs": [
        {
          "output_type": "stream",
          "name": "stdout",
          "text": [
            "1011\n"
          ]
        }
      ]
    },
    {
      "cell_type": "code",
      "source": [
        "# Завдання 15: Створіть дві матриці розміром 4x4, заповніть їх випадковими цілими числами в діапазоні від 1 до 10 та знайдіть їхню різницю.\n",
        "matrix_l = np.random.randint(1, 11, size=(4, 4))\n",
        "matrix_m = np.random.randint(1, 11, size=(4, 4))\n",
        "difference = matrix_l - matrix_m\n",
        "print(difference)"
      ],
      "metadata": {
        "colab": {
          "base_uri": "https://localhost:8080/"
        },
        "id": "YhaJIEiYuelO",
        "outputId": "4c3bbd48-be52-40c2-e944-865202d5b114"
      },
      "execution_count": 23,
      "outputs": [
        {
          "output_type": "stream",
          "name": "stdout",
          "text": [
            "[[ 2 -1  3  2]\n",
            " [ 3  0 -3  4]\n",
            " [-2 -1 -3  2]\n",
            " [ 6  1 -2  4]]\n"
          ]
        }
      ]
    },
    {
      "cell_type": "code",
      "source": [
        "# Завдання 16: Створіть матрицю розміром 3x3, заповніть її випадковими дійсними числами в діапазоні від 0 до 1 та знайдіть вектор-стовпчик, що містить суму елементів кожного рядка матриці.\n",
        "matrix_n = np.random.rand(3, 3)\n",
        "sum_rows = np.sum(matrix_n, axis=1)\n",
        "print(sum_rows)"
      ],
      "metadata": {
        "colab": {
          "base_uri": "https://localhost:8080/"
        },
        "id": "uvagQqPwuorZ",
        "outputId": "de509f56-db87-4fd7-896d-1ea94b0533d0"
      },
      "execution_count": 24,
      "outputs": [
        {
          "output_type": "stream",
          "name": "stdout",
          "text": [
            "[1.6170884  2.04908636 2.32272875]\n"
          ]
        }
      ]
    },
    {
      "cell_type": "code",
      "source": [
        "# Завдання 17: Створіть матрицю розміром 3x4 з довільними цілими числами і створінь матрицю з квадратами цих чисел.\n",
        "matrix_o = np.random.randint(1, 11, size=(3, 4))\n",
        "matrix_squares = np.square(matrix_o)\n",
        "print(matrix_squares)"
      ],
      "metadata": {
        "colab": {
          "base_uri": "https://localhost:8080/"
        },
        "id": "nvmE0xk3uymt",
        "outputId": "c6e343a9-bb03-4c8b-ea86-0ecae4ffbf09"
      },
      "execution_count": 26,
      "outputs": [
        {
          "output_type": "stream",
          "name": "stdout",
          "text": [
            "[[49 16 25 16]\n",
            " [64 64  9 25]\n",
            " [ 1  9  1 49]]\n"
          ]
        }
      ]
    },
    {
      "cell_type": "code",
      "source": [
        "# Завдання 18: Створіть вектор розміром 4, заповніть його випадковими цілими числами в діапазоні від 1 до 50 та знайдіть вектор з квадратними коренями цих чисел.\n",
        "vector_e = np.random.randint(1, 51, size=4)\n",
        "vector_sqrt = np.sqrt(vector_e)\n",
        "print(vector_sqrt)"
      ],
      "metadata": {
        "colab": {
          "base_uri": "https://localhost:8080/"
        },
        "id": "h-Zetazfu529",
        "outputId": "3ff33b59-961e-407e-9b38-fb9a64387dfa"
      },
      "execution_count": 25,
      "outputs": [
        {
          "output_type": "stream",
          "name": "stdout",
          "text": [
            "[6.08276253 3.16227766 5.65685425 4.69041576]\n"
          ]
        }
      ]
    },
    {
      "cell_type": "code",
      "source": [
        "# Завдання 1\n",
        "arr = np.array([0, 1, 2, 3, 4, 5, 6, 7, 8, 9])\n",
        "arr[arr % 2 == 1] = -1\n",
        "print(arr)"
      ],
      "metadata": {
        "colab": {
          "base_uri": "https://localhost:8080/"
        },
        "id": "miqd2f8_Qvp2",
        "outputId": "fd5685f5-6096-4631-b561-62c49caba571"
      },
      "execution_count": 3,
      "outputs": [
        {
          "output_type": "stream",
          "name": "stdout",
          "text": [
            "[ 0 -1  2 -1  4 -1  6 -1  8 -1]\n"
          ]
        }
      ]
    },
    {
      "cell_type": "code",
      "source": [
        "# Завдання 2\n",
        "arr = np.arange(10)\n",
        "arr_2d = arr.reshape(2, -1)\n",
        "print(arr_2d)"
      ],
      "metadata": {
        "colab": {
          "base_uri": "https://localhost:8080/"
        },
        "id": "F93Sf0x_Q8U0",
        "outputId": "f0e48e1e-9096-42ff-8ad6-aea0e07c6e85"
      },
      "execution_count": 4,
      "outputs": [
        {
          "output_type": "stream",
          "name": "stdout",
          "text": [
            "[[0 1 2 3 4]\n",
            " [5 6 7 8 9]]\n"
          ]
        }
      ]
    },
    {
      "cell_type": "code",
      "source": [
        "# Завдання 3\n",
        "a = np.array([[1, 2], [3, 4]])\n",
        "b = np.array([[5, 6], [7, 8]])\n",
        "c = np.vstack((a, b))\n",
        "print(c)"
      ],
      "metadata": {
        "colab": {
          "base_uri": "https://localhost:8080/"
        },
        "id": "UsXRiww-REYU",
        "outputId": "daad55b4-748f-47e9-b9ff-a8caf4bd10ce"
      },
      "execution_count": 5,
      "outputs": [
        {
          "output_type": "stream",
          "name": "stdout",
          "text": [
            "[[1 2]\n",
            " [3 4]\n",
            " [5 6]\n",
            " [7 8]]\n"
          ]
        }
      ]
    },
    {
      "cell_type": "code",
      "source": [
        "# Завдання 4\n",
        "import numpy as np\n",
        "a = np.array([1,2,3])\n",
        "a = np.r_[np.repeat(a, 3), np.tile(a, 3)]\n",
        "print(a)"
      ],
      "metadata": {
        "colab": {
          "base_uri": "https://localhost:8080/"
        },
        "id": "UQf-NBD_Jnep",
        "outputId": "297ec670-5bb2-4530-a55f-0787ce2c059d"
      },
      "execution_count": 3,
      "outputs": [
        {
          "output_type": "stream",
          "name": "stdout",
          "text": [
            "[1 1 1 2 2 2 3 3 3 1 2 3 1 2 3 1 2 3]\n"
          ]
        }
      ]
    },
    {
      "cell_type": "code",
      "source": [
        "# Завдання 5\n",
        "a = np.array([1,2,3,2,3,4,3,4,5,6])\n",
        "b = np.array([7,2,10,2,7,4,9,4,9,8])\n",
        "print(np.intersect1d(a, b))"
      ],
      "metadata": {
        "colab": {
          "base_uri": "https://localhost:8080/"
        },
        "id": "ZK_5iQHUKY4N",
        "outputId": "b61d375f-6f9b-42d2-f9fd-851716ea636f"
      },
      "execution_count": 4,
      "outputs": [
        {
          "output_type": "stream",
          "name": "stdout",
          "text": [
            "[2 4]\n"
          ]
        }
      ]
    },
    {
      "cell_type": "code",
      "source": [
        "# Завдання 6\n",
        "np.random.seed(100)\n",
        "a = np.random.uniform(1,50, 20)\n",
        "print(a.argsort()[-5:][::-1])"
      ],
      "metadata": {
        "colab": {
          "base_uri": "https://localhost:8080/"
        },
        "id": "rMcF6FOzKgij",
        "outputId": "33a1c82f-8517-4c1e-88a4-965a8feaaec3"
      },
      "execution_count": 5,
      "outputs": [
        {
          "output_type": "stream",
          "name": "stdout",
          "text": [
            "[15 10  3  7 18]\n"
          ]
        }
      ]
    },
    {
      "cell_type": "code",
      "source": [
        "# Завдання 7\n",
        "a = np.array([1,2,3,np.nan,5,6,7,np.nan])\n",
        "print(a[~np.isnan(a)])"
      ],
      "metadata": {
        "colab": {
          "base_uri": "https://localhost:8080/"
        },
        "id": "Vte60vq_Kn7I",
        "outputId": "c1cb1e7f-388f-4358-cdfc-e35e8d4e9baa"
      },
      "execution_count": 6,
      "outputs": [
        {
          "output_type": "stream",
          "name": "stdout",
          "text": [
            "[1. 2. 3. 5. 6. 7.]\n"
          ]
        }
      ]
    },
    {
      "cell_type": "code",
      "source": [
        "# Завдання 8\n",
        "a = np.array([1,2,3,4,5])\n",
        "b = np.array([4,5,6,7,8])\n",
        "dist = np.linalg.norm(a-b)\n",
        "print(dist)"
      ],
      "metadata": {
        "colab": {
          "base_uri": "https://localhost:8080/"
        },
        "id": "w8A7QptbKvt-",
        "outputId": "bf3d096a-d006-4a98-f4d5-514ccc5ce80d"
      },
      "execution_count": 7,
      "outputs": [
        {
          "output_type": "stream",
          "name": "stdout",
          "text": [
            "6.708203932499369\n"
          ]
        }
      ]
    },
    {
      "cell_type": "code",
      "source": [
        "# Завдання 9\n",
        "x = np.array([1, 2, 1, 1, 3, 4, 3, 1, 1, 2, 1, 1, 2])\n",
        "n = 5\n",
        "idx = np.where(x == 1)[0]\n",
        "if idx.size >= n:\n",
        "    idx_n = idx[n-1]\n",
        "else:\n",
        "    idx_n = -1\n",
        "print(idx_n)"
      ],
      "metadata": {
        "colab": {
          "base_uri": "https://localhost:8080/"
        },
        "id": "R8EqAxQpK2yR",
        "outputId": "2db2f814-f396-4275-f5b1-67a38e6ad04f"
      },
      "execution_count": 8,
      "outputs": [
        {
          "output_type": "stream",
          "name": "stdout",
          "text": [
            "8\n"
          ]
        }
      ]
    },
    {
      "cell_type": "code",
      "source": [
        "# Завдання 10\n",
        "np.random.seed(100)\n",
        "a = np.random.randint(0, 5, 10)\n",
        "print(np.r_[True, a[1:] == a[:-1]])"
      ],
      "metadata": {
        "colab": {
          "base_uri": "https://localhost:8080/"
        },
        "id": "cFE1PrSDK_NH",
        "outputId": "ae191621-6214-46a1-9294-81b3f4267405"
      },
      "execution_count": 9,
      "outputs": [
        {
          "output_type": "stream",
          "name": "stdout",
          "text": [
            "[ True  True False False False False False  True  True  True]\n"
          ]
        }
      ]
    }
  ]
}