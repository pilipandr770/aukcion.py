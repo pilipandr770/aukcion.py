{
  "nbformat": 4,
  "nbformat_minor": 0,
  "metadata": {
    "colab": {
      "provenance": [],
      "authorship_tag": "ABX9TyMxLoJdSKymr9xVvLGOmO9u",
      "include_colab_link": true
    },
    "kernelspec": {
      "name": "python3",
      "display_name": "Python 3"
    },
    "language_info": {
      "name": "python"
    }
  },
  "cells": [
    {
      "cell_type": "markdown",
      "metadata": {
        "id": "view-in-github",
        "colab_type": "text"
      },
      "source": [
        "<a href=\"https://colab.research.google.com/github/pilipandr770/aukcion.py/blob/main/Untitled2.ipynb\" target=\"_parent\"><img src=\"https://colab.research.google.com/assets/colab-badge.svg\" alt=\"Open In Colab\"/></a>"
      ]
    },
    {
      "cell_type": "code",
      "execution_count": null,
      "metadata": {
        "id": "kC3CILCfrPsL"
      },
      "outputs": [],
      "source": [
        "import numpy as np\n",
        "\n",
        "# Завдання 1: Створіть одновимірний масив (вектор) з першими 10-ма натуральними числами та виведіть його значення.\n",
        "vector_1d = np.arange(1, 11)\n",
        "print(vector_1d)\n",
        "\n",
        "# Завдання 2: Створіть двовимірний масив (матрицю) розміром 3x3, заповніть його нулями та виведіть його значення.\n",
        "matrix_3x3 = np.zeros((3, 3))\n",
        "print(matrix_3x3)\n",
        "\n",
        "# Завдання 3: Створіть масив розміром 5x5, заповніть його випадковими цілими числами в діапазоні від 1 до 10 та виведіть його значення.\n",
        "matrix_5x5_int = np.random.randint(1, 11, size=(5, 5))\n",
        "print(matrix_5x5_int)\n",
        "\n",
        "# Завдання 4: Створіть масив розміром 4x4, заповніть його випадковими дійсними числами в діапазоні від 0 до 1 та виведіть його значення.\n",
        "matrix_4x4_float = np.random.rand(4, 4)\n",
        "print(matrix_4x4_float)\n",
        "\n",
        "# Завдання 5: Створіть два одновимірних масиви розміром 5, заповніть їх випадковими цілими числами в діапазоні від 1 до 10 та виконайте на них поелементні операції додавання, віднімання та множення.\n",
        "vector1 = np.random.randint(1, 11, size=5)\n",
        "vector2 = np.random.randint(1, 11, size=5)\n",
        "addition = vector1 + vector2\n",
        "subtraction = vector1 - vector2\n",
        "multiplication = vector1 * vector2\n",
        "print(vector1, vector2, addition, subtraction, multiplication)\n",
        "\n",
        "# Завдання 6: Створіть два вектори розміром 7, заповніть довільними числами та знайдіть їх скалярний добуток.\n",
        "vector_a = np.random.randint(1, 11, size=7)\n",
        "vector_b = np.random.randint(1, 11, size=7)\n",
        "dot_product = np.dot(vector_a, vector_b)\n",
        "print(dot_product)\n",
        "\n",
        "# Завдання 7: Створіть дві матриці розміром 2x2 та 2x3, заповніть їх випадковими цілими числами в діапазоні від 1 до 10 та перемножте їх між собою.\n",
        "matrix_a = np.random.randint(1, 11, size=(2, 2))\n",
        "matrix_b = np.random.randint(1, 11, size=(2, 3))\n",
        "matrix_product = np.dot(matrix_a, matrix_b)\n",
        "print(matrix_product)\n",
        "\n",
        "# Завдання 8: Створіть матрицю розміром 3x3, заповніть її випадковими цілими числами в діапазоні від 1 до 10 та знайдіть її обернену матрицю.\n",
        "matrix_c = np.random.randint(1, 11, size=(3, 3))\n",
        "matrix_inverse = np.linalg.inv(matrix_c)\n",
        "print(matrix_inverse)\n",
        "\n",
        "# Завдання 9: Створіть матрицю розміром 4x4, заповніть її випадковими дійсними числами в діапазоні від 0 до 1 та транспонуйте її.\n",
        "matrix_d = np.random.rand(4, 4)\n",
        "matrix_d_transpose = np.transpose(matrix_d)\n",
        "print(matrix_d_transpose)\n",
        "\n",
        "# Завдання 10: Створіть матрицю розміром 3x4 та вектор розміром 4, заповніть їх випадковими цілими числами в діапазоні від 1 до 10 та перемножте матрицю на вектор.\n",
        "matrix_e = np.random.randint(1, 11, size=(3, 4))\n",
        "vector_c = np.random.randint(1, 11, size=4)\n",
        "matrix_vector_product = np.dot(matrix_e, vector_c)\n",
        "print(matrix_vector_product)\n",
        "\n",
        "# Завдання 11: Створіть матрицю розміром 2x3 та вектор розміром 3, заповніть їх випадковими дійсними числами в діапазоні від 0 до 1 та перемножте матрицю на вектор.\n",
        "matrix_f = np.random.rand(2, 3)\n",
        "vector_d = np.random.rand(3)\n",
        "matrix_vector_product2 = np.dot(matrix_f, vector_d)\n",
        "print(matrix_vector_product2)\n",
        "\n",
        "# Завдання 12: Створіть дві матриці розміром 2x2, заповніть їх випадковими цілими числами в діапазоні від 1 до 10 та виконайте їхнє поелементне множення.\n",
        "matrix_g = np.random.randint(1, 11, size=(2, 2))\n",
        "matrix_h = np.random.randint(1, 11, size=(2, 2))\n",
        "elementwise_product = matrix_g * matrix_h\n",
        "print(elementwise_product)\n",
        "\n",
        "# Завдання 13: Створіть дві матриці розміром 2x2, заповніть їх випадковими цілими числами в діапазоні від 1 до 10 та знайдіть їх добуток.\n",
        "matrix_i = np.random.randint(1, 11, size=(2, 2))\n",
        "matrix_j = np.random.randint(1, 11, size=(2, 2))\n",
        "matrix_product2 = np.dot(matrix_i, matrix_j)\n",
        "print(matrix_product2)\n",
        "\n",
        "# Завдання 14: Створіть матрицю розміром 5x5, заповніть її випадковими цілими числами в діапазоні від 1 до 100 та знайдіть суму елементів матриці.\n",
        "matrix_k = np.random.randint(1, 101, size=(5, 5))\n",
        "sum_elements = np.sum(matrix_k)\n",
        "print(sum_elements)\n",
        "\n",
        "# Завдання 15: Створіть дві матриці розміром 4x4, заповніть їх випадковими цілими числами в діапазоні від 1 до 10 та знайдіть їхню різницю.\n",
        "matrix_l = np.random.randint(1, 11, size=(4, 4))\n",
        "matrix_m = np.random.randint(1, 11, size=(4, 4))\n",
        "difference = matrix_l - matrix_m\n",
        "print(difference)\n",
        "\n",
        "# Завдання 16: Створіть матрицю розміром 3x3, заповніть її випадковими дійсними числами в діапазоні від 0 до 1 та знайдіть вектор-стовпчик, що містить суму елементів кожного рядка матриці.\n",
        "matrix_n = np.random.rand(3, 3)\n",
        "sum_rows = np.sum(matrix_n, axis=1)\n",
        "print(sum_rows)\n",
        "\n",
        "# Завдання 17: Створіть матрицю розміром 3x4 з довільними цілими числами і створінь матрицю з квадратами цих чисел.\n",
        "matrix_o = np.random.randint(1, 11, size=(3, 4))\n",
        "matrix_squares = np.square(matrix_o)\n",
        "print(matrix_squares)\n",
        "\n",
        "# Завдання 18: Створіть вектор розміром 4, заповніть його випадковими цілими числами в діапазоні від 1 до 50 та знайдіть вектор з квадратними коренями цих чисел.\n",
        "vector_e = np.random.randint(1, 51, size=4)\n",
        "vector_sqrt = np.sqrt(vector_e)\n",
        "print(vector_sqrt)\n"
      ]
    },
    {
      "cell_type": "code",
      "source": [
        "# Завдання 1: Створіть одновимірний масив (вектор) з першими 10-ма натуральними числами та виведіть його значення.\n",
        "vector_1d = np.arange(1, 11)\n",
        "print(vector_1d)"
      ],
      "metadata": {
        "id": "ehbZad4gsBHF"
      },
      "execution_count": null,
      "outputs": []
    },
    {
      "cell_type": "code",
      "source": [
        "# Завдання 2: Створіть двовимірний масив (матрицю) розміром 3x3, заповніть його нулями та виведіть його значення.\n",
        "matrix_3x3 = np.zeros((3, 3))\n",
        "print(matrix_3x3)"
      ],
      "metadata": {
        "id": "H0j19cUCsL2H"
      },
      "execution_count": null,
      "outputs": []
    },
    {
      "cell_type": "code",
      "source": [
        "# Завдання 3: Створіть масив розміром 5x5, заповніть його випадковими цілими числами в діапазоні від 1 до 10 та виведіть його значення.\n",
        "matrix_5x5_int = np.random.randint(1, 11, size=(5, 5))\n",
        "print(matrix_5x5_int)"
      ],
      "metadata": {
        "id": "zj7qndhZsq0X"
      },
      "execution_count": null,
      "outputs": []
    },
    {
      "cell_type": "code",
      "source": [
        "# Завдання 4: Створіть масив розміром 4x4, заповніть його випадковими дійсними числами в діапазоні від 0 до 1 та виведіть його значення.\n",
        "matrix_4x4_float = np.random.rand(4, 4)\n",
        "print(matrix_4x4_float)"
      ],
      "metadata": {
        "id": "mah40CrMs87U"
      },
      "execution_count": null,
      "outputs": []
    },
    {
      "cell_type": "code",
      "source": [
        "# Завдання 5: Створіть два одновимірних масиви розміром 5, заповніть їх випадковими цілими числами в діапазоні від 1 до 10 та виконайте на них поелементні операції додавання, віднімання та множення.\n",
        "vector1 = np.random.randint(1, 11, size=5)\n",
        "vector2 = np.random.randint(1, 11, size=5)\n",
        "addition = vector1 + vector2\n",
        "subtraction = vector1 - vector2\n",
        "multiplication = vector1 * vector2\n",
        "print(vector1, vector2, addition, subtraction, multiplication)"
      ],
      "metadata": {
        "id": "hnqf2t66tBzB"
      },
      "execution_count": null,
      "outputs": []
    },
    {
      "cell_type": "code",
      "source": [
        "# Завдання 6: Створіть два вектори розміром 7, заповніть довільними числами та знайдіть їх скалярний добуток.\n",
        "vector_a = np.random.randint(1, 11, size=7)\n",
        "vector_b = np.random.randint(1, 11, size=7)\n",
        "dot_product = np.dot(vector_a, vector_b)\n",
        "print(dot_product)"
      ],
      "metadata": {
        "id": "q1Gg8KoNtO1d"
      },
      "execution_count": null,
      "outputs": []
    },
    {
      "cell_type": "code",
      "source": [
        "# Завдання 7: Створіть дві матриці розміром 2x2 та 2x3, заповніть їх випадковими цілими числами в діапазоні від 1 до 10 та перемножте їх між собою.\n",
        "matrix_a = np.random.randint(1, 11, size=(2, 2))\n",
        "matrix_b = np.random.randint(1, 11, size=(2, 3))\n",
        "matrix_product = np.dot(matrix_a, matrix_b)\n",
        "print(matrix_product)"
      ],
      "metadata": {
        "id": "6XeeJsHstWzn"
      },
      "execution_count": null,
      "outputs": []
    },
    {
      "cell_type": "code",
      "source": [
        "# Завдання 8: Створіть матрицю розміром 3x3, заповніть її випадковими цілими числами в діапазоні від 1 до 10 та знайдіть її обернену матрицю.\n",
        "matrix_c = np.random.randint(1, 11, size=(3, 3))\n",
        "matrix_inverse = np.linalg.inv(matrix_c)\n",
        "print(matrix_inverse)"
      ],
      "metadata": {
        "id": "Jmmdd-5Ktf-j"
      },
      "execution_count": null,
      "outputs": []
    },
    {
      "cell_type": "code",
      "source": [
        "# Завдання 9: Створіть матрицю розміром 4x4, заповніть її випадковими дійсними числами в діапазоні від 0 до 1 та транспонуйте її.\n",
        "matrix_d = np.random.rand(4, 4)\n",
        "matrix_d_transpose = np.transpose(matrix_d)\n",
        "print(matrix_d_transpose)"
      ],
      "metadata": {
        "id": "lQ1vBbQYtnQP"
      },
      "execution_count": null,
      "outputs": []
    },
    {
      "cell_type": "code",
      "source": [
        "# Завдання 10: Створіть матрицю розміром 3x4 та вектор розміром 4, заповніть їх випадковими цілими числами в діапазоні від 1 до 10 та перемножте матрицю на вектор.\n",
        "matrix_e = np.random.randint(1, 11, size=(3, 4))\n",
        "vector_c = np.random.randint(1, 11, size=4)\n",
        "matrix_vector_product = np.dot(matrix_e, vector_c)\n",
        "print(matrix_vector_product)"
      ],
      "metadata": {
        "id": "ijzZNPGTtv5K"
      },
      "execution_count": null,
      "outputs": []
    },
    {
      "cell_type": "code",
      "source": [
        "# Завдання 11: Створіть матрицю розміром 2x3 та вектор розміром 3, заповніть їх випадковими дійсними числами в діапазоні від 0 до 1 та перемножте матрицю на вектор.\n",
        "matrix_f = np.random.rand(2, 3)\n",
        "vector_d = np.random.rand(3)\n",
        "matrix_vector_product2 = np.dot(matrix_f, vector_d)\n",
        "print(matrix_vector_product2)"
      ],
      "metadata": {
        "id": "KJ7CdHHGt4V3"
      },
      "execution_count": null,
      "outputs": []
    },
    {
      "cell_type": "code",
      "source": [
        "# Завдання 12: Створіть дві матриці розміром 2x2, заповніть їх випадковими цілими числами в діапазоні від 1 до 10 та виконайте їхнє поелементне множення.\n",
        "matrix_g = np.random.randint(1, 11, size=(2, 2))\n",
        "matrix_h = np.random.randint(1, 11, size=(2, 2))\n",
        "elementwise_product = matrix_g * matrix_h\n",
        "print(elementwise_product)"
      ],
      "metadata": {
        "id": "UiHzROvAt_pf"
      },
      "execution_count": null,
      "outputs": []
    },
    {
      "cell_type": "code",
      "source": [
        "# Завдання 13: Створіть дві матриці розміром 2x2, заповніть їх випадковими цілими числами в діапазоні від 1 до 10 та знайдіть їх добуток.\n",
        "matrix_i = np.random.randint(1, 11, size=(2, 2))\n",
        "matrix_j = np.random.randint(1, 11, size=(2, 2))\n",
        "matrix_product2 = np.dot(matrix_i, matrix_j)\n",
        "print(matrix_product2)"
      ],
      "metadata": {
        "id": "Xu5j3kfsuLll"
      },
      "execution_count": null,
      "outputs": []
    },
    {
      "cell_type": "code",
      "source": [
        "# Завдання 14: Створіть матрицю розміром 5x5, заповніть її випадковими цілими числами в діапазоні від 1 до 100 та знайдіть суму елементів матриці.\n",
        "matrix_k = np.random.randint(1, 101, size=(5, 5))\n",
        "sum_elements = np.sum(matrix_k)\n",
        "print(sum_elements)"
      ],
      "metadata": {
        "id": "xYOYjQQ_uW53"
      },
      "execution_count": null,
      "outputs": []
    },
    {
      "cell_type": "code",
      "source": [
        "# Завдання 15: Створіть дві матриці розміром 4x4, заповніть їх випадковими цілими числами в діапазоні від 1 до 10 та знайдіть їхню різницю.\n",
        "matrix_l = np.random.randint(1, 11, size=(4, 4))\n",
        "matrix_m = np.random.randint(1, 11, size=(4, 4))\n",
        "difference = matrix_l - matrix_m\n",
        "print(difference)"
      ],
      "metadata": {
        "id": "YhaJIEiYuelO"
      },
      "execution_count": null,
      "outputs": []
    },
    {
      "cell_type": "code",
      "source": [
        "# Завдання 16: Створіть матрицю розміром 3x3, заповніть її випадковими дійсними числами в діапазоні від 0 до 1 та знайдіть вектор-стовпчик, що містить суму елементів кожного рядка матриці.\n",
        "matrix_n = np.random.rand(3, 3)\n",
        "sum_rows = np.sum(matrix_n, axis=1)\n",
        "print(sum_rows)"
      ],
      "metadata": {
        "id": "uvagQqPwuorZ"
      },
      "execution_count": null,
      "outputs": []
    },
    {
      "cell_type": "code",
      "source": [
        "# Завдання 17: Створіть матрицю розміром 3x4 з довільними цілими числами і створінь матрицю з квадратами цих чисел.\n",
        "matrix_o = np.random.randint(1, 11, size=(3, 4))\n",
        "matrix_squares = np.square(matrix_o)\n",
        "print(matrix_squares)"
      ],
      "metadata": {
        "id": "nvmE0xk3uymt"
      },
      "execution_count": null,
      "outputs": []
    },
    {
      "cell_type": "code",
      "source": [
        "# Завдання 18: Створіть вектор розміром 4, заповніть його випадковими цілими числами в діапазоні від 1 до 50 та знайдіть вектор з квадратними коренями цих чисел.\n",
        "vector_e = np.random.randint(1, 51, size=4)\n",
        "vector_sqrt = np.sqrt(vector_e)\n",
        "print(vector_sqrt)"
      ],
      "metadata": {
        "id": "h-Zetazfu529"
      },
      "execution_count": null,
      "outputs": []
    },
    {
      "cell_type": "code",
      "source": [
        "import numpy as np\n",
        "\n",
        "# Завдання 1\n",
        "arr = np.array([0, 1, 2, 3, 4, 5, 6, 7, 8, 9])\n",
        "arr[arr % 2 == 1] = -1\n",
        "print(arr)\n",
        "\n",
        "# Завдання 2\n",
        "arr = np.arange(10)\n",
        "arr_2d = arr.reshape(2, -1)\n",
        "print(arr_2d)\n",
        "\n",
        "# Завдання 3\n",
        "a = np.array([[1, 2], [3, 4]])\n",
        "b = np.array([[5, 6], [7, 8]])\n",
        "c = np.vstack((a, b))\n",
        "print(c)\n",
        "\n",
        "# Завдання 4\n",
        "a = np.array([1,2,3])\n",
        "a = np.r_[np.repeat(a, 3), np.tile(a, 3)]\n",
        "print(a)\n",
        "\n",
        "# Завдання 5\n",
        "a = np.array([1,2,3,2,3,4,3,4,5,6])\n",
        "b = np.array([7,2,10,2,7,4,9,4,9,8])\n",
        "print(np.intersect1d(a, b))\n",
        "\n",
        "# Завдання 6\n",
        "np.random.seed(100)\n",
        "a = np.random.uniform(1,50, 20)\n",
        "print(a.argsort()[-5:][::-1])\n",
        "\n",
        "# Завдання 7\n",
        "a = np.array([1,2,3,np.nan,5,6,7,np.nan])\n",
        "print(a[~np.isnan(a)])\n",
        "\n",
        "# Завдання 8\n",
        "a = np.array([1,2,3,4,5])\n",
        "b = np.array([4,5,6,7,8])\n",
        "dist = np.linalg.norm(a-b)\n",
        "print(dist)\n",
        "\n",
        "# Завдання 9\n",
        "x = np.array([1, 2, 1, 1, 3, 4, 3, 1, 1, 2, 1, 1, 2])\n",
        "n = 5\n",
        "idx = np.where(x == 1)[0]\n",
        "if idx.size >= n:\n",
        "    idx_n = idx[n-1]\n",
        "else:\n",
        "    idx_n = -1\n",
        "print(idx_n)\n",
        "\n",
        "# Завдання 10\n",
        "np.random.seed(100)\n",
        "a = np.random.randint(0, 5, 10)\n",
        "print(np.r_[True, a[1:] == a[:-1]])\n"
      ],
      "metadata": {
        "colab": {
          "base_uri": "https://localhost:8080/"
        },
        "id": "i1qKbDlVOUus",
        "outputId": "8e307d25-9926-41fc-e024-c9ad30159511"
      },
      "execution_count": 2,
      "outputs": [
        {
          "output_type": "stream",
          "name": "stdout",
          "text": [
            "[ 0 -1  2 -1  4 -1  6 -1  8 -1]\n",
            "[[0 1 2 3 4]\n",
            " [5 6 7 8 9]]\n",
            "[[1 2]\n",
            " [3 4]\n",
            " [5 6]\n",
            " [7 8]]\n",
            "[1 1 1 2 2 2 3 3 3 1 2 3 1 2 3 1 2 3]\n",
            "[2 4]\n",
            "[15 10  3  7 18]\n",
            "[1. 2. 3. 5. 6. 7.]\n",
            "6.708203932499369\n",
            "8\n",
            "[ True  True False False False False False  True  True  True]\n"
          ]
        }
      ]
    }
  ]
}